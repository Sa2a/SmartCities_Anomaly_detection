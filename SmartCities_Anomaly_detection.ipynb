{
  "cells": [
    {
      "cell_type": "markdown",
      "metadata": {},
      "source": [
        "# Import liberaries "
      ]
    },
    {
      "cell_type": "code",
      "execution_count": null,
      "metadata": {},
      "outputs": [],
      "source": [
        "!pip install pycaret[full]\n",
        "! pip uninstall Jinja2 --yes\n",
        "! pip install Jinja2"
      ]
    },
    {
      "cell_type": "code",
      "execution_count": 1,
      "metadata": {
        "id": "a4y6o-MC44ZA"
      },
      "outputs": [
        {
          "name": "stdout",
          "output_type": "stream",
          "text": [
            "Collecting pyod\n",
            "  Downloading pyod-1.0.2.tar.gz (122 kB)\n",
            "Requirement already satisfied: joblib in c:\\users\\debi\\anaconda3\\lib\\site-packages (from pyod) (1.1.0)\n",
            "Requirement already satisfied: matplotlib in c:\\users\\debi\\anaconda3\\lib\\site-packages (from pyod) (3.4.3)\n",
            "Requirement already satisfied: numpy>=1.19 in c:\\users\\debi\\anaconda3\\lib\\site-packages (from pyod) (1.20.3)\n",
            "Requirement already satisfied: numba>=0.51 in c:\\users\\debi\\anaconda3\\lib\\site-packages (from pyod) (0.54.1)\n",
            "Requirement already satisfied: scipy>=1.5.1 in c:\\users\\debi\\anaconda3\\lib\\site-packages (from pyod) (1.7.1)\n",
            "Requirement already satisfied: scikit_learn>=0.20.0 in c:\\users\\debi\\anaconda3\\lib\\site-packages (from pyod) (1.1.1)\n",
            "Requirement already satisfied: six in c:\\users\\debi\\anaconda3\\lib\\site-packages (from pyod) (1.16.0)\n",
            "Requirement already satisfied: statsmodels in c:\\users\\debi\\anaconda3\\lib\\site-packages (from pyod) (0.12.2)\n",
            "Requirement already satisfied: llvmlite<0.38,>=0.37.0rc1 in c:\\users\\debi\\anaconda3\\lib\\site-packages (from numba>=0.51->pyod) (0.37.0)\n",
            "Requirement already satisfied: setuptools in c:\\users\\debi\\anaconda3\\lib\\site-packages (from numba>=0.51->pyod) (58.0.4)\n",
            "Requirement already satisfied: threadpoolctl>=2.0.0 in c:\\users\\debi\\anaconda3\\lib\\site-packages (from scikit_learn>=0.20.0->pyod) (2.2.0)\n",
            "Requirement already satisfied: pyparsing>=2.2.1 in c:\\users\\debi\\anaconda3\\lib\\site-packages (from matplotlib->pyod) (3.0.4)\n",
            "Requirement already satisfied: cycler>=0.10 in c:\\users\\debi\\anaconda3\\lib\\site-packages (from matplotlib->pyod) (0.10.0)\n",
            "Requirement already satisfied: python-dateutil>=2.7 in c:\\users\\debi\\anaconda3\\lib\\site-packages (from matplotlib->pyod) (2.8.2)\n",
            "Requirement already satisfied: kiwisolver>=1.0.1 in c:\\users\\debi\\anaconda3\\lib\\site-packages (from matplotlib->pyod) (1.3.1)\n",
            "Requirement already satisfied: pillow>=6.2.0 in c:\\users\\debi\\anaconda3\\lib\\site-packages (from matplotlib->pyod) (8.4.0)\n",
            "Requirement already satisfied: pandas>=0.21 in c:\\users\\debi\\anaconda3\\lib\\site-packages (from statsmodels->pyod) (1.3.4)\n",
            "Requirement already satisfied: patsy>=0.5 in c:\\users\\debi\\anaconda3\\lib\\site-packages (from statsmodels->pyod) (0.5.2)\n",
            "Requirement already satisfied: pytz>=2017.3 in c:\\users\\debi\\anaconda3\\lib\\site-packages (from pandas>=0.21->statsmodels->pyod) (2021.3)\n",
            "Building wheels for collected packages: pyod\n",
            "  Building wheel for pyod (setup.py): started\n",
            "  Building wheel for pyod (setup.py): finished with status 'done'\n",
            "  Created wheel for pyod: filename=pyod-1.0.2-py3-none-any.whl size=150271 sha256=1a123be54cdb8ed9c84a0e7f7282c2d3dbba2b084c2f8f94fd27dc38f2773589\n",
            "  Stored in directory: c:\\users\\debi\\appdata\\local\\pip\\cache\\wheels\\15\\fa\\72\\d9bf2f154b7f401ef62173c835c929824563d00ec133afc1c8\n",
            "Successfully built pyod\n",
            "Installing collected packages: pyod\n",
            "Successfully installed pyod-1.0.2\n",
            "Note: you may need to restart the kernel to use updated packages.\n"
          ]
        }
      ],
      "source": [
        "pip install pyod"
      ]
    },
    {
      "cell_type": "code",
      "execution_count": 2,
      "metadata": {
        "id": "MG7c1_SaY1ey"
      },
      "outputs": [],
      "source": [
        "from collections import defaultdict\n",
        "import numpy as np\n",
        "from matplotlib import pyplot as plt\n",
        "\n",
        "from sklearn.cluster import KMeans, DBSCAN\n",
        "from sklearn.datasets import load_digits\n",
        "from sklearn.metrics import silhouette_score, accuracy_score\n",
        "from sklearn.model_selection import train_test_split\n",
        "from sklearn.utils.multiclass import unique_labels\n",
        "from sklearn.manifold import TSNE\n",
        "from tqdm import tqdm\n",
        "from sklearn.metrics import classification_report, ConfusionMatrixDisplay, accuracy_score, confusion_matrix\n",
        "\n",
        "import seaborn as sns\n",
        "import pandas as pd\n",
        "from yellowbrick.cluster import KElbowVisualizer\n",
        "import plotly.express as px\n",
        "import seaborn as sns\n",
        "from sklearn.datasets import make_blobs\n",
        "from yellowbrick.cluster import InterclusterDistance\n",
        "from sklearn.datasets import make_blobs, make_circles, make_s_curve\n",
        "plt.rcParams[\"figure.figsize\"] = (9,6)\n",
        "\n",
        "import warnings\n",
        "warnings.filterwarnings('ignore')"
      ]
    },
    {
      "cell_type": "markdown",
      "metadata": {},
      "source": [
        "# Fetch the data"
      ]
    },
    {
      "cell_type": "code",
      "execution_count": 113,
      "metadata": {
        "id": "YsG3uKQyR9yp"
      },
      "outputs": [],
      "source": [
        "import numpy as np\n",
        "import pandas as pd\n",
        "\n",
        "#============= Read CSV and apply data preperation =============#\n",
        "df = pd.read_csv(\"Dataset_to_be_used_in_anomaly_detection.csv\")\n",
        "df1= pd.read_csv(\"Dataset_to_be_used_in_performance_comparison.csv\")\n",
        "\n"
      ]
    },
    {
      "cell_type": "code",
      "execution_count": 114,
      "metadata": {},
      "outputs": [
        {
          "data": {
            "text/html": [
              "<div>\n",
              "<style scoped>\n",
              "    .dataframe tbody tr th:only-of-type {\n",
              "        vertical-align: middle;\n",
              "    }\n",
              "\n",
              "    .dataframe tbody tr th {\n",
              "        vertical-align: top;\n",
              "    }\n",
              "\n",
              "    .dataframe thead th {\n",
              "        text-align: right;\n",
              "    }\n",
              "</style>\n",
              "<table border=\"1\" class=\"dataframe\">\n",
              "  <thead>\n",
              "    <tr style=\"text-align: right;\">\n",
              "      <th></th>\n",
              "      <th>Unnamed: 0</th>\n",
              "      <th>Follower_measure_x_follower</th>\n",
              "      <th>Follower_measure_y_follower</th>\n",
              "      <th>Leader_measure_x_leader</th>\n",
              "      <th>Leader_measure_y_leader</th>\n",
              "    </tr>\n",
              "  </thead>\n",
              "  <tbody>\n",
              "    <tr>\n",
              "      <th>0</th>\n",
              "      <td>9</td>\n",
              "      <td>-1.042570</td>\n",
              "      <td>-0.241098</td>\n",
              "      <td>-1.267957</td>\n",
              "      <td>0.414568</td>\n",
              "    </tr>\n",
              "    <tr>\n",
              "      <th>1</th>\n",
              "      <td>10</td>\n",
              "      <td>-1.056986</td>\n",
              "      <td>-0.245590</td>\n",
              "      <td>-1.165454</td>\n",
              "      <td>0.411869</td>\n",
              "    </tr>\n",
              "    <tr>\n",
              "      <th>2</th>\n",
              "      <td>11</td>\n",
              "      <td>-1.071858</td>\n",
              "      <td>-0.256787</td>\n",
              "      <td>-1.028780</td>\n",
              "      <td>0.407472</td>\n",
              "    </tr>\n",
              "    <tr>\n",
              "      <th>3</th>\n",
              "      <td>12</td>\n",
              "      <td>-1.084518</td>\n",
              "      <td>-0.257502</td>\n",
              "      <td>-0.850609</td>\n",
              "      <td>0.367564</td>\n",
              "    </tr>\n",
              "    <tr>\n",
              "      <th>4</th>\n",
              "      <td>13</td>\n",
              "      <td>-0.974811</td>\n",
              "      <td>-0.105985</td>\n",
              "      <td>-0.625045</td>\n",
              "      <td>0.236174</td>\n",
              "    </tr>\n",
              "    <tr>\n",
              "      <th>...</th>\n",
              "      <td>...</td>\n",
              "      <td>...</td>\n",
              "      <td>...</td>\n",
              "      <td>...</td>\n",
              "      <td>...</td>\n",
              "    </tr>\n",
              "    <tr>\n",
              "      <th>93</th>\n",
              "      <td>102</td>\n",
              "      <td>-1.559131</td>\n",
              "      <td>0.440215</td>\n",
              "      <td>-2.325538</td>\n",
              "      <td>0.295837</td>\n",
              "    </tr>\n",
              "    <tr>\n",
              "      <th>94</th>\n",
              "      <td>103</td>\n",
              "      <td>-1.496434</td>\n",
              "      <td>0.357878</td>\n",
              "      <td>-2.105013</td>\n",
              "      <td>0.098846</td>\n",
              "    </tr>\n",
              "    <tr>\n",
              "      <th>95</th>\n",
              "      <td>104</td>\n",
              "      <td>-1.467606</td>\n",
              "      <td>0.253125</td>\n",
              "      <td>-1.857816</td>\n",
              "      <td>0.058397</td>\n",
              "    </tr>\n",
              "    <tr>\n",
              "      <th>96</th>\n",
              "      <td>105</td>\n",
              "      <td>-1.420551</td>\n",
              "      <td>0.223617</td>\n",
              "      <td>-1.606946</td>\n",
              "      <td>0.202749</td>\n",
              "    </tr>\n",
              "    <tr>\n",
              "      <th>97</th>\n",
              "      <td>106</td>\n",
              "      <td>-1.246517</td>\n",
              "      <td>0.129141</td>\n",
              "      <td>-1.390368</td>\n",
              "      <td>0.402667</td>\n",
              "    </tr>\n",
              "  </tbody>\n",
              "</table>\n",
              "<p>98 rows × 5 columns</p>\n",
              "</div>"
            ],
            "text/plain": [
              "    Unnamed: 0  Follower_measure_x_follower  Follower_measure_y_follower  \\\n",
              "0            9                    -1.042570                    -0.241098   \n",
              "1           10                    -1.056986                    -0.245590   \n",
              "2           11                    -1.071858                    -0.256787   \n",
              "3           12                    -1.084518                    -0.257502   \n",
              "4           13                    -0.974811                    -0.105985   \n",
              "..         ...                          ...                          ...   \n",
              "93         102                    -1.559131                     0.440215   \n",
              "94         103                    -1.496434                     0.357878   \n",
              "95         104                    -1.467606                     0.253125   \n",
              "96         105                    -1.420551                     0.223617   \n",
              "97         106                    -1.246517                     0.129141   \n",
              "\n",
              "    Leader_measure_x_leader  Leader_measure_y_leader  \n",
              "0                 -1.267957                 0.414568  \n",
              "1                 -1.165454                 0.411869  \n",
              "2                 -1.028780                 0.407472  \n",
              "3                 -0.850609                 0.367564  \n",
              "4                 -0.625045                 0.236174  \n",
              "..                      ...                      ...  \n",
              "93                -2.325538                 0.295837  \n",
              "94                -2.105013                 0.098846  \n",
              "95                -1.857816                 0.058397  \n",
              "96                -1.606946                 0.202749  \n",
              "97                -1.390368                 0.402667  \n",
              "\n",
              "[98 rows x 5 columns]"
            ]
          },
          "execution_count": 114,
          "metadata": {},
          "output_type": "execute_result"
        }
      ],
      "source": [
        "df"
      ]
    },
    {
      "cell_type": "code",
      "execution_count": 115,
      "metadata": {},
      "outputs": [
        {
          "data": {
            "text/html": [
              "<div>\n",
              "<style scoped>\n",
              "    .dataframe tbody tr th:only-of-type {\n",
              "        vertical-align: middle;\n",
              "    }\n",
              "\n",
              "    .dataframe tbody tr th {\n",
              "        vertical-align: top;\n",
              "    }\n",
              "\n",
              "    .dataframe thead th {\n",
              "        text-align: right;\n",
              "    }\n",
              "</style>\n",
              "<table border=\"1\" class=\"dataframe\">\n",
              "  <thead>\n",
              "    <tr style=\"text-align: right;\">\n",
              "      <th></th>\n",
              "      <th>Unnamed: 0</th>\n",
              "      <th>Follower_measure_x_follower</th>\n",
              "      <th>Follower_measure_y_follower</th>\n",
              "      <th>Leader_measure_x_leader</th>\n",
              "      <th>Leader_measure_y_leader</th>\n",
              "      <th>labels</th>\n",
              "    </tr>\n",
              "  </thead>\n",
              "  <tbody>\n",
              "    <tr>\n",
              "      <th>0</th>\n",
              "      <td>9</td>\n",
              "      <td>-1.042570</td>\n",
              "      <td>-0.241098</td>\n",
              "      <td>-1.267957</td>\n",
              "      <td>0.414568</td>\n",
              "      <td>0.0</td>\n",
              "    </tr>\n",
              "    <tr>\n",
              "      <th>1</th>\n",
              "      <td>10</td>\n",
              "      <td>-1.056986</td>\n",
              "      <td>-0.245590</td>\n",
              "      <td>-1.165454</td>\n",
              "      <td>0.411869</td>\n",
              "      <td>0.0</td>\n",
              "    </tr>\n",
              "    <tr>\n",
              "      <th>2</th>\n",
              "      <td>11</td>\n",
              "      <td>-1.071858</td>\n",
              "      <td>-0.256787</td>\n",
              "      <td>-1.028780</td>\n",
              "      <td>0.407472</td>\n",
              "      <td>0.0</td>\n",
              "    </tr>\n",
              "    <tr>\n",
              "      <th>3</th>\n",
              "      <td>12</td>\n",
              "      <td>-1.084518</td>\n",
              "      <td>-0.257502</td>\n",
              "      <td>-0.850609</td>\n",
              "      <td>0.367564</td>\n",
              "      <td>0.0</td>\n",
              "    </tr>\n",
              "    <tr>\n",
              "      <th>4</th>\n",
              "      <td>13</td>\n",
              "      <td>-0.974811</td>\n",
              "      <td>-0.105985</td>\n",
              "      <td>-0.625045</td>\n",
              "      <td>0.236174</td>\n",
              "      <td>0.0</td>\n",
              "    </tr>\n",
              "    <tr>\n",
              "      <th>...</th>\n",
              "      <td>...</td>\n",
              "      <td>...</td>\n",
              "      <td>...</td>\n",
              "      <td>...</td>\n",
              "      <td>...</td>\n",
              "      <td>...</td>\n",
              "    </tr>\n",
              "    <tr>\n",
              "      <th>93</th>\n",
              "      <td>102</td>\n",
              "      <td>-1.559131</td>\n",
              "      <td>0.440215</td>\n",
              "      <td>-2.325538</td>\n",
              "      <td>0.295837</td>\n",
              "      <td>0.0</td>\n",
              "    </tr>\n",
              "    <tr>\n",
              "      <th>94</th>\n",
              "      <td>103</td>\n",
              "      <td>-1.496434</td>\n",
              "      <td>0.357878</td>\n",
              "      <td>-2.105013</td>\n",
              "      <td>0.098846</td>\n",
              "      <td>0.0</td>\n",
              "    </tr>\n",
              "    <tr>\n",
              "      <th>95</th>\n",
              "      <td>104</td>\n",
              "      <td>-1.467606</td>\n",
              "      <td>0.253125</td>\n",
              "      <td>-1.857816</td>\n",
              "      <td>0.058397</td>\n",
              "      <td>0.0</td>\n",
              "    </tr>\n",
              "    <tr>\n",
              "      <th>96</th>\n",
              "      <td>105</td>\n",
              "      <td>-1.420551</td>\n",
              "      <td>0.223617</td>\n",
              "      <td>-1.606946</td>\n",
              "      <td>0.202749</td>\n",
              "      <td>0.0</td>\n",
              "    </tr>\n",
              "    <tr>\n",
              "      <th>97</th>\n",
              "      <td>106</td>\n",
              "      <td>-1.246517</td>\n",
              "      <td>0.129141</td>\n",
              "      <td>-1.390368</td>\n",
              "      <td>0.402667</td>\n",
              "      <td>0.0</td>\n",
              "    </tr>\n",
              "  </tbody>\n",
              "</table>\n",
              "<p>98 rows × 6 columns</p>\n",
              "</div>"
            ],
            "text/plain": [
              "    Unnamed: 0  Follower_measure_x_follower  Follower_measure_y_follower  \\\n",
              "0            9                    -1.042570                    -0.241098   \n",
              "1           10                    -1.056986                    -0.245590   \n",
              "2           11                    -1.071858                    -0.256787   \n",
              "3           12                    -1.084518                    -0.257502   \n",
              "4           13                    -0.974811                    -0.105985   \n",
              "..         ...                          ...                          ...   \n",
              "93         102                    -1.559131                     0.440215   \n",
              "94         103                    -1.496434                     0.357878   \n",
              "95         104                    -1.467606                     0.253125   \n",
              "96         105                    -1.420551                     0.223617   \n",
              "97         106                    -1.246517                     0.129141   \n",
              "\n",
              "    Leader_measure_x_leader  Leader_measure_y_leader  labels  \n",
              "0                 -1.267957                 0.414568     0.0  \n",
              "1                 -1.165454                 0.411869     0.0  \n",
              "2                 -1.028780                 0.407472     0.0  \n",
              "3                 -0.850609                 0.367564     0.0  \n",
              "4                 -0.625045                 0.236174     0.0  \n",
              "..                      ...                      ...     ...  \n",
              "93                -2.325538                 0.295837     0.0  \n",
              "94                -2.105013                 0.098846     0.0  \n",
              "95                -1.857816                 0.058397     0.0  \n",
              "96                -1.606946                 0.202749     0.0  \n",
              "97                -1.390368                 0.402667     0.0  \n",
              "\n",
              "[98 rows x 6 columns]"
            ]
          },
          "execution_count": 115,
          "metadata": {},
          "output_type": "execute_result"
        }
      ],
      "source": [
        "df1"
      ]
    },
    {
      "cell_type": "code",
      "execution_count": 116,
      "metadata": {
        "id": "1wCZwIawSQJc"
      },
      "outputs": [],
      "source": [
        "data=df.iloc[:,1:]\n",
        "target=df1['labels']\n",
        "X = np.array(data)\n",
        "Y= np.array(target)"
      ]
    },
    {
      "cell_type": "code",
      "execution_count": 117,
      "metadata": {
        "colab": {
          "base_uri": "https://localhost:8080/"
        },
        "id": "OBTZdj-w7n8S",
        "outputId": "eba7dfd1-dd34-4903-986f-1e81e4a3c825"
      },
      "outputs": [
        {
          "data": {
            "text/html": [
              "<div>\n",
              "<style scoped>\n",
              "    .dataframe tbody tr th:only-of-type {\n",
              "        vertical-align: middle;\n",
              "    }\n",
              "\n",
              "    .dataframe tbody tr th {\n",
              "        vertical-align: top;\n",
              "    }\n",
              "\n",
              "    .dataframe thead th {\n",
              "        text-align: right;\n",
              "    }\n",
              "</style>\n",
              "<table border=\"1\" class=\"dataframe\">\n",
              "  <thead>\n",
              "    <tr style=\"text-align: right;\">\n",
              "      <th></th>\n",
              "      <th>Follower_measure_x_follower</th>\n",
              "      <th>Follower_measure_y_follower</th>\n",
              "      <th>Leader_measure_x_leader</th>\n",
              "      <th>Leader_measure_y_leader</th>\n",
              "    </tr>\n",
              "  </thead>\n",
              "  <tbody>\n",
              "    <tr>\n",
              "      <th>0</th>\n",
              "      <td>-1.042570</td>\n",
              "      <td>-0.241098</td>\n",
              "      <td>-1.267957</td>\n",
              "      <td>0.414568</td>\n",
              "    </tr>\n",
              "    <tr>\n",
              "      <th>1</th>\n",
              "      <td>-1.056986</td>\n",
              "      <td>-0.245590</td>\n",
              "      <td>-1.165454</td>\n",
              "      <td>0.411869</td>\n",
              "    </tr>\n",
              "    <tr>\n",
              "      <th>2</th>\n",
              "      <td>-1.071858</td>\n",
              "      <td>-0.256787</td>\n",
              "      <td>-1.028780</td>\n",
              "      <td>0.407472</td>\n",
              "    </tr>\n",
              "    <tr>\n",
              "      <th>3</th>\n",
              "      <td>-1.084518</td>\n",
              "      <td>-0.257502</td>\n",
              "      <td>-0.850609</td>\n",
              "      <td>0.367564</td>\n",
              "    </tr>\n",
              "    <tr>\n",
              "      <th>4</th>\n",
              "      <td>-0.974811</td>\n",
              "      <td>-0.105985</td>\n",
              "      <td>-0.625045</td>\n",
              "      <td>0.236174</td>\n",
              "    </tr>\n",
              "    <tr>\n",
              "      <th>...</th>\n",
              "      <td>...</td>\n",
              "      <td>...</td>\n",
              "      <td>...</td>\n",
              "      <td>...</td>\n",
              "    </tr>\n",
              "    <tr>\n",
              "      <th>93</th>\n",
              "      <td>-1.559131</td>\n",
              "      <td>0.440215</td>\n",
              "      <td>-2.325538</td>\n",
              "      <td>0.295837</td>\n",
              "    </tr>\n",
              "    <tr>\n",
              "      <th>94</th>\n",
              "      <td>-1.496434</td>\n",
              "      <td>0.357878</td>\n",
              "      <td>-2.105013</td>\n",
              "      <td>0.098846</td>\n",
              "    </tr>\n",
              "    <tr>\n",
              "      <th>95</th>\n",
              "      <td>-1.467606</td>\n",
              "      <td>0.253125</td>\n",
              "      <td>-1.857816</td>\n",
              "      <td>0.058397</td>\n",
              "    </tr>\n",
              "    <tr>\n",
              "      <th>96</th>\n",
              "      <td>-1.420551</td>\n",
              "      <td>0.223617</td>\n",
              "      <td>-1.606946</td>\n",
              "      <td>0.202749</td>\n",
              "    </tr>\n",
              "    <tr>\n",
              "      <th>97</th>\n",
              "      <td>-1.246517</td>\n",
              "      <td>0.129141</td>\n",
              "      <td>-1.390368</td>\n",
              "      <td>0.402667</td>\n",
              "    </tr>\n",
              "  </tbody>\n",
              "</table>\n",
              "<p>98 rows × 4 columns</p>\n",
              "</div>"
            ],
            "text/plain": [
              "    Follower_measure_x_follower  Follower_measure_y_follower  \\\n",
              "0                     -1.042570                    -0.241098   \n",
              "1                     -1.056986                    -0.245590   \n",
              "2                     -1.071858                    -0.256787   \n",
              "3                     -1.084518                    -0.257502   \n",
              "4                     -0.974811                    -0.105985   \n",
              "..                          ...                          ...   \n",
              "93                    -1.559131                     0.440215   \n",
              "94                    -1.496434                     0.357878   \n",
              "95                    -1.467606                     0.253125   \n",
              "96                    -1.420551                     0.223617   \n",
              "97                    -1.246517                     0.129141   \n",
              "\n",
              "    Leader_measure_x_leader  Leader_measure_y_leader  \n",
              "0                 -1.267957                 0.414568  \n",
              "1                 -1.165454                 0.411869  \n",
              "2                 -1.028780                 0.407472  \n",
              "3                 -0.850609                 0.367564  \n",
              "4                 -0.625045                 0.236174  \n",
              "..                      ...                      ...  \n",
              "93                -2.325538                 0.295837  \n",
              "94                -2.105013                 0.098846  \n",
              "95                -1.857816                 0.058397  \n",
              "96                -1.606946                 0.202749  \n",
              "97                -1.390368                 0.402667  \n",
              "\n",
              "[98 rows x 4 columns]"
            ]
          },
          "execution_count": 117,
          "metadata": {},
          "output_type": "execute_result"
        }
      ],
      "source": [
        "data"
      ]
    },
    {
      "cell_type": "markdown",
      "metadata": {},
      "source": [
        "## Mapping the predicted labels from the clusters with the accual labels"
      ]
    },
    {
      "cell_type": "code",
      "execution_count": 118,
      "metadata": {},
      "outputs": [],
      "source": [
        "def unsupervisedLabelMap(labels, y):\n",
        "    labelDict = dict()\n",
        "    for label in unique_labels(labels):\n",
        "        tmpY = y[labels == label]\n",
        "        unique, count = np.unique(tmpY, return_counts=True)\n",
        "        trueLabel = unique[np.argmax(count)]\n",
        "        labelDict[label] = trueLabel\n",
        "    return labelDict\n",
        "\n",
        "\n",
        "def usLabels2sLabels(labels, y):\n",
        "    sLabels = np.empty(labels.shape, labels.dtype)\n",
        "    labelDict = unsupervisedLabelMap(labels, y)\n",
        "    for usl, tl in labelDict.items():\n",
        "        sLabels[labels == usl] = tl\n",
        "    return sLabels"
      ]
    },
    {
      "cell_type": "markdown",
      "metadata": {
        "id": "qVGfuxJxUkCT"
      },
      "source": [
        "# SVM"
      ]
    },
    {
      "cell_type": "code",
      "execution_count": 119,
      "metadata": {
        "id": "IUCOwUGFS4PM"
      },
      "outputs": [
        {
          "name": "stdout",
          "output_type": "stream",
          "text": [
            "accuracy : 0.8979591836734694\n",
            "              precision    recall  f1-score   support\n",
            "\n",
            "     class 0       0.93      0.95      0.94        86\n",
            "     class 1       0.60      0.50      0.55        12\n",
            "\n",
            "    accuracy                           0.90        98\n",
            "   macro avg       0.77      0.73      0.74        98\n",
            "weighted avg       0.89      0.90      0.89        98\n",
            "\n"
          ]
        }
      ],
      "source": [
        "from sklearn import svm\n",
        "from pyod.models.ecod import ECOD\n",
        "clf = ECOD()\n",
        "clf.fit(X)\n",
        "\n",
        "# get outlier scores\n",
        "y_train_labels = usLabels2sLabels(clf.labels_, Y) # to map the clusters' labels with the true labels\n",
        "accuracy = accuracy_score(Y, y_train_labels)  \n",
        "print(\"accuracy :\",accuracy)\n",
        "target_names = ['class 0', 'class 1']\n",
        "print(classification_report(Y, y_train_labels, target_names=target_names))"
      ]
    },
    {
      "cell_type": "markdown",
      "metadata": {
        "id": "_-OV4riiVMJC"
      },
      "source": [
        "# KNN"
      ]
    },
    {
      "cell_type": "code",
      "execution_count": 120,
      "metadata": {
        "colab": {
          "base_uri": "https://localhost:8080/"
        },
        "id": "1jUQgn0j8x9I",
        "outputId": "7d32987a-cbc9-4430-b160-2411f2355a55"
      },
      "outputs": [
        {
          "name": "stdout",
          "output_type": "stream",
          "text": [
            "accuracy : 0.8775510204081632\n",
            "              precision    recall  f1-score   support\n",
            "\n",
            "     class 0       0.88      1.00      0.93        86\n",
            "     class 1       0.00      0.00      0.00        12\n",
            "\n",
            "    accuracy                           0.88        98\n",
            "   macro avg       0.44      0.50      0.47        98\n",
            "weighted avg       0.77      0.88      0.82        98\n",
            "\n"
          ]
        }
      ],
      "source": [
        "from pyod.models.knn import KNN   # kNN detector\n",
        "# train kNN detector\n",
        "clf_name = 'KNN'\n",
        "clf = KNN()\n",
        "clf.fit(X)\n",
        "\n",
        "# get the prediction labels and outlier scores of the training data\n",
        "y_train_pred = usLabels2sLabels(clf.labels_, Y) # to map the clusters' labels with the true labels\n",
        "accuracy = accuracy_score(Y, y_train_pred)  \n",
        "print(\"accuracy :\",accuracy)\n",
        "target_names = ['class 0', 'class 1']\n",
        "print(classification_report(Y, y_train_pred, target_names=target_names))\n"
      ]
    },
    {
      "cell_type": "markdown",
      "metadata": {
        "id": "NtJ1KYmJVuQB"
      },
      "source": [
        "# PCA"
      ]
    },
    {
      "cell_type": "code",
      "execution_count": 121,
      "metadata": {
        "colab": {
          "base_uri": "https://localhost:8080/"
        },
        "id": "Fn7D31_F-_Mn",
        "outputId": "6b9b6ae5-60e5-4d01-e0cb-f2ff65a92915"
      },
      "outputs": [
        {
          "name": "stdout",
          "output_type": "stream",
          "text": [
            "accuracy : 0.9387755102040817\n",
            "              precision    recall  f1-score   support\n",
            "\n",
            "     class 0       0.95      0.98      0.97        86\n",
            "     class 1       0.80      0.67      0.73        12\n",
            "\n",
            "    accuracy                           0.94        98\n",
            "   macro avg       0.88      0.82      0.85        98\n",
            "weighted avg       0.94      0.94      0.94        98\n",
            "\n"
          ]
        }
      ],
      "source": [
        "from pyod.models.pca import PCA  # kNN detector\n",
        "# train kNN detector\n",
        "clf_name = 'PCA'\n",
        "clf = PCA()\n",
        "clf.fit(X)\n",
        "\n",
        "# get the prediction labels and outlier scores of the training data\n",
        "y_train_pred = usLabels2sLabels(clf.labels_, Y) # to map the clusters' labels with the true labels\n",
        "accuracy = accuracy_score(Y, y_train_pred)  \n",
        "print(\"accuracy :\",accuracy)\n",
        "target_names = ['class 0', 'class 1']\n",
        "print(classification_report(Y, y_train_pred, target_names=target_names))"
      ]
    },
    {
      "cell_type": "markdown",
      "metadata": {
        "id": "lIBi9sd_kZyc"
      },
      "source": [
        "# DBSCAN"
      ]
    },
    {
      "cell_type": "code",
      "execution_count": 122,
      "metadata": {},
      "outputs": [],
      "source": [
        "def draw_Tsne(x,y, title = \"training data\"):\n",
        "  \n",
        "  data=x                               \n",
        "  data_labels=y                        \n",
        "  tsne = TSNE(n_components=2, random_state=0)\n",
        "  X_2d = tsne.fit_transform(data)  \n",
        "\n",
        "  #plot tsne for x_test and x_train\n",
        "  classes=unique_labels(data_labels)         \n",
        "  target_ids = range(len(classes))\n",
        "  # plt.figure(figsize=(6, 5))\n",
        "  colors = 'r', 'g'\n",
        "  for i, c, label in zip(target_ids, colors, classes):\n",
        "    plt.scatter(X_2d[data_labels == i,1], X_2d[data_labels == i, 0], c=c, label=label)\n",
        "  \n",
        "  plt.title(title)\n",
        "  plt.legend()\n",
        "  plt.show()"
      ]
    },
    {
      "cell_type": "code",
      "execution_count": 123,
      "metadata": {},
      "outputs": [
        {
          "data": {
            "image/png": "[encoded data removed]",
            "text/plain": [
              "<Figure size 648x432 with 1 Axes>"
            ]
          },
          "metadata": {},
          "output_type": "display_data"
        }
      ],
      "source": [
        "draw_Tsne(X,Y,\"before DBSCAN training\")"
      ]
    },
    {
      "cell_type": "markdown",
      "metadata": {},
      "source": [
        "## Finding the best hyperparmeters for DBSCAN (eps ,min_samples) that gives the highest accuracy score"
      ]
    },
    {
      "cell_type": "code",
      "execution_count": 131,
      "metadata": {},
      "outputs": [
        {
          "name": "stderr",
          "output_type": "stream",
          "text": [
            "100%|██████████| 20/20 [00:00<00:00, 88.46it/s]\n"
          ]
        },
        {
          "data": {
            "image/png": "[encoded data removed]",
            "text/plain": [
              "<Figure size 648x432 with 1 Axes>"
            ]
          },
          "metadata": {},
          "output_type": "display_data"
        },
        {
          "name": "stdout",
          "output_type": "stream",
          "text": [
            "the best n_clustrs = 2 with accuracy_socres = 0.9693877551020408 and eps = 0.7000000000000001, min_samples =10\n"
          ]
        }
      ],
      "source": [
        "#Using original Training Data\n",
        "rs = 0\n",
        "X, y = X, Y\n",
        "_, dim = X.shape\n",
        "classes = unique_labels(y)\n",
        "# DBSCAN_silhouette_socres = []\n",
        "accuracy_socres = []\n",
        "epsList, msList, n_clusters = [], [], []\n",
        "# l = []\n",
        "y_predected =[]\n",
        "for eps in tqdm(np.arange(.1, 2.1, 0.1)):\n",
        "  for ms in range(5, 15):\n",
        "    model = DBSCAN(eps=eps, min_samples=ms)\n",
        "    \n",
        "    predClusters = model.fit_predict(X)\n",
        "    \n",
        "    # print(ms, model.labels_.max())\n",
        "    # print(unique_labels(predClusters))\n",
        "    predY = usLabels2sLabels(predClusters, y)\n",
        "    accuracy = accuracy_score(y, predY)    \n",
        "    # score = silhouette_score(X, predClusters, random_state=0)\n",
        "    # DBSCAN_silhouette_socres.append(score)\n",
        "    accuracy_socres.append(accuracy)\n",
        "    # labels = model.labels_\n",
        "    # l.append(labels)\n",
        "    y_predected.append(predY)\n",
        "    epsList.append(eps)\n",
        "    msList.append(ms)\n",
        "    n_clusters.append(len(np.unique(predY)))\n",
        "\n",
        "epsList, msList, n_clusters,accuracy_socres = np.array(epsList), np.array(msList), np.array(n_clusters), np.array(accuracy_socres)\n",
        "\n",
        "ax = plt.axes(projection='3d')\n",
        "ax.plot_trisurf(epsList, msList, accuracy_socres)\n",
        "ax.set_xlabel('EPS')\n",
        "ax.set_ylabel('MIN_SAMPLES')\n",
        "ax.set_zlabel('aacuracy_socres')\n",
        "plt.show()\n",
        "i = accuracy_socres.argmax()\n",
        "print(f\"the best n_clustrs = {n_clusters[i]} with accuracy_socres = {accuracy_socres[i]} and eps = {epsList[i]}, min_samples ={msList[i]}\")\n"
      ]
    },
    {
      "cell_type": "code",
      "execution_count": 132,
      "metadata": {},
      "outputs": [
        {
          "name": "stdout",
          "output_type": "stream",
          "text": [
            "              precision    recall  f1-score   support\n",
            "\n",
            "     class 0       0.97      1.00      0.98        86\n",
            "     class 1       1.00      0.75      0.86        12\n",
            "\n",
            "    accuracy                           0.97        98\n",
            "   macro avg       0.98      0.88      0.92        98\n",
            "weighted avg       0.97      0.97      0.97        98\n",
            "\n"
          ]
        }
      ],
      "source": [
        "target_names = [f'class {x}' for x in unique_labels(y_predected[i])]\n",
        "# print(target_names)\n",
        "print(classification_report(Y, y_predected[i], target_names=target_names))"
      ]
    },
    {
      "cell_type": "code",
      "execution_count": 133,
      "metadata": {},
      "outputs": [
        {
          "data": {
            "image/png": "[encoded data removed]",
            "text/plain": [
              "<Figure size 648x432 with 1 Axes>"
            ]
          },
          "metadata": {},
          "output_type": "display_data"
        }
      ],
      "source": [
        "draw_Tsne(X,y_predected[i],\"after DBSCAN training\")\n"
      ]
    },
    {
      "cell_type": "code",
      "execution_count": null,
      "metadata": {},
      "outputs": [],
      "source": []
    }
  ],
  "metadata": {
    "colab": {
      "collapsed_sections": [],
      "name": "AssSmart3.ipynb",
      "provenance": []
    },
    "kernelspec": {
      "display_name": "Python 3.9.7 ('base')",
      "language": "python",
      "name": "python3"
    },
    "language_info": {
      "codemirror_mode": {
        "name": "ipython",
        "version": 3
      },
      "file_extension": ".py",
      "mimetype": "text/x-python",
      "name": "python",
      "nbconvert_exporter": "python",
      "pygments_lexer": "ipython3",
      "version": "3.9.7"
    },
    "vscode": {
      "interpreter": {
        "hash": "fbf6e1835169108267d5ec424e8b85e51018a5020d435d840a610e6ef8c49b01"
      }
    }
  },
  "nbformat": 4,
  "nbformat_minor": 0
}
